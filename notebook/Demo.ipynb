{
 "cells": [
  {
   "cell_type": "markdown",
   "metadata": {},
   "source": [
    "# Functions as first class citizens"
   ]
  },
  {
   "cell_type": "code",
   "execution_count": 1,
   "metadata": {
    "collapsed": false
   },
   "outputs": [
    {
     "data": {
      "text/plain": [
       "6"
      ]
     },
     "execution_count": 1,
     "metadata": {},
     "output_type": "execute_result"
    }
   ],
   "source": [
    "def mul(a, b):\n",
    "    return a*b\n",
    "\n",
    "mul(2, 3)"
   ]
  },
  {
   "cell_type": "code",
   "execution_count": 2,
   "metadata": {
    "collapsed": false
   },
   "outputs": [
    {
     "data": {
      "text/plain": [
       "6"
      ]
     },
     "execution_count": 2,
     "metadata": {},
     "output_type": "execute_result"
    }
   ],
   "source": [
    "mul = lambda a, b: a*b\n",
    "\n",
    "mul(2, 3)"
   ]
  },
  {
   "cell_type": "markdown",
   "metadata": {},
   "source": [
    "# Lambda is another way of defining a function"
   ]
  },
  {
   "cell_type": "markdown",
   "metadata": {},
   "source": [
    "# Higher Order Functions"
   ]
  },
  {
   "cell_type": "markdown",
   "metadata": {},
   "source": [
    "# Functions as arguments to other functions"
   ]
  },
  {
   "cell_type": "code",
   "execution_count": 3,
   "metadata": {
    "collapsed": false
   },
   "outputs": [
    {
     "data": {
      "text/plain": [
       "18"
      ]
     },
     "execution_count": 3,
     "metadata": {},
     "output_type": "execute_result"
    }
   ],
   "source": [
    "mul(mul(2, 3), 3)"
   ]
  },
  {
   "cell_type": "code",
   "execution_count": 4,
   "metadata": {
    "collapsed": false
   },
   "outputs": [
    {
     "data": {
      "text/plain": [
       "5"
      ]
     },
     "execution_count": 4,
     "metadata": {},
     "output_type": "execute_result"
    }
   ],
   "source": [
    "def transform_and_add(func, a, b):\n",
    "    return func(a) + func(b)\n",
    "\n",
    "transform_and_add(lambda x: x**2, 1, 2)"
   ]
  },
  {
   "cell_type": "markdown",
   "metadata": {},
   "source": [
    "# Why would I want something like this?"
   ]
  },
  {
   "cell_type": "markdown",
   "metadata": {},
   "source": [
    "# A Familiar Pattern"
   ]
  },
  {
   "cell_type": "code",
   "execution_count": 5,
   "metadata": {
    "collapsed": false
   },
   "outputs": [
    {
     "name": "stdout",
     "output_type": "stream",
     "text": [
      "5\n",
      "9\n",
      "17\n"
     ]
    }
   ],
   "source": [
    "def square_and_add(a, b):\n",
    "    return (a**2 + b**2)\n",
    "\n",
    "def cube_and_add(a, b):\n",
    "    return (a**3 + b**3)\n",
    "\n",
    "def quad_and_add(a, b):\n",
    "    return (a**4 + b**4)\n",
    "\n",
    "print(square_and_add(1, 2))\n",
    "print(cube_and_add(1, 2))\n",
    "print(quad_and_add(1, 2))"
   ]
  },
  {
   "cell_type": "code",
   "execution_count": 6,
   "metadata": {
    "collapsed": false
   },
   "outputs": [
    {
     "name": "stdout",
     "output_type": "stream",
     "text": [
      "True\n",
      "True\n",
      "True\n"
     ]
    }
   ],
   "source": [
    "square = lambda x: x**2\n",
    "cube = lambda x: x**3\n",
    "quad = lambda x: x**4\n",
    "print(square_and_add(1, 2) == transform_and_add(square, 1, 2))\n",
    "print(cube_and_add(1, 2) == transform_and_add(cube, 1, 2))\n",
    "print(quad_and_add(1, 2) == transform_and_add(quad, 1, 2))"
   ]
  },
  {
   "cell_type": "code",
   "execution_count": 7,
   "metadata": {
    "collapsed": false
   },
   "outputs": [
    {
     "name": "stdout",
     "output_type": "stream",
     "text": [
      "5\n",
      "8\n",
      "0.0625\n"
     ]
    }
   ],
   "source": [
    "def square_and_add(a, b):\n",
    "    return (a**2 + b**2)\n",
    "\n",
    "def cube_and_mul(a, b):\n",
    "    return ((a**3) * (b**3))\n",
    "\n",
    "def quad_and_div(a, b):\n",
    "    return ((a**4) / (b**4))\n",
    "\n",
    "print(square_and_add(1, 2))\n",
    "print(cube_and_mul(1, 2))\n",
    "print(quad_and_div(1, 2))"
   ]
  },
  {
   "cell_type": "code",
   "execution_count": 8,
   "metadata": {
    "collapsed": false
   },
   "outputs": [
    {
     "name": "stdout",
     "output_type": "stream",
     "text": [
      "True\n",
      "True\n",
      "True\n"
     ]
    }
   ],
   "source": [
    "def transform_and_reduce(func_transform, func_reduce, a, b):\n",
    "    return func_reduce(func_transform(a), func_transform(b))\n",
    "\n",
    "print(square_and_add(1, 2) == transform_and_reduce(square, lambda x, y: x+y, 1, 2))\n",
    "print(cube_and_mul(1, 2) == transform_and_reduce(cube, lambda x, y: x*y, 1, 2))\n",
    "print(quad_and_div(1, 2) == transform_and_reduce(quad, lambda x, y: x/y, 1, 2))"
   ]
  },
  {
   "cell_type": "code",
   "execution_count": 9,
   "metadata": {
    "collapsed": false
   },
   "outputs": [
    {
     "name": "stdout",
     "output_type": "stream",
     "text": [
      "True\n",
      "True\n",
      "True\n"
     ]
    }
   ],
   "source": [
    "import operator\n",
    "\n",
    "print(square_and_add(1, 2) == transform_and_reduce(square, operator.add, 1, 2))\n",
    "print(cube_and_mul(1, 2) == transform_and_reduce(cube, operator.mul, 1, 2))\n",
    "print(quad_and_div(1, 2) == transform_and_reduce(quad, operator.truediv, 1, 2))"
   ]
  },
  {
   "cell_type": "markdown",
   "metadata": {},
   "source": [
    "# Lets do some maths\n",
    "\n",
    "# Number of transform functions = m\n",
    "# Number of reduce functions = n\n"
   ]
  },
  {
   "cell_type": "markdown",
   "metadata": {
    "collapsed": false
   },
   "source": [
    "# Number of functions in the first workflow = m\\*n"
   ]
  },
  {
   "cell_type": "markdown",
   "metadata": {
    "collapsed": false
   },
   "source": [
    "# Number of functions in the second workflow = m + n"
   ]
  },
  {
   "cell_type": "markdown",
   "metadata": {
    "collapsed": false
   },
   "source": [
    "# Write small, re-useable function"
   ]
  },
  {
   "cell_type": "code",
   "execution_count": 10,
   "metadata": {
    "collapsed": false
   },
   "outputs": [
    {
     "name": "stdout",
     "output_type": "stream",
     "text": [
      "True\n",
      "True\n",
      "True\n"
     ]
    }
   ],
   "source": [
    "print(square_and_add(1, 2) == transform_and_reduce(lambda x: x**2, lambda x, y: x+y, 1, 2))\n",
    "print(cube_and_mul(1, 2) == transform_and_reduce(lambda x: x**3, lambda x, y: x*y, 1, 2))\n",
    "print(quad_and_div(1, 2) == transform_and_reduce(lambda x: x**4, lambda x, y: x/y, 1, 2))"
   ]
  },
  {
   "cell_type": "markdown",
   "metadata": {},
   "source": [
    "# Function returns function as result"
   ]
  },
  {
   "cell_type": "code",
   "execution_count": 11,
   "metadata": {
    "collapsed": false
   },
   "outputs": [
    {
     "name": "stdout",
     "output_type": "stream",
     "text": [
      "1000000\n",
      "Time take = 0.00010395050048828125\n"
     ]
    }
   ],
   "source": [
    "from time import time\n",
    "def timer(func):\n",
    "    def inner(*args, **kwargs):\n",
    "        t = time()\n",
    "        func(*args, **kwargs)\n",
    "        print(\"Time take = {time}\".format(time = time() - t))\n",
    "    return inner\n",
    "\n",
    "def echo_func(input):\n",
    "    print(input)\n",
    "    \n",
    "timed_echo = timer(echo_func)\n",
    "\n",
    "timed_echo(1000000)"
   ]
  },
  {
   "cell_type": "markdown",
   "metadata": {},
   "source": [
    "# Partial Functions"
   ]
  },
  {
   "cell_type": "code",
   "execution_count": 12,
   "metadata": {
    "collapsed": false
   },
   "outputs": [
    {
     "name": "stdout",
     "output_type": "stream",
     "text": [
      "debug: Error 404\n"
     ]
    }
   ],
   "source": [
    "def logger(level, message):\n",
    "    print(\"{level}: {message}\".format(level = level, message = message))\n",
    "\n",
    "def debug(message):\n",
    "    return logger(\"debug\", message)\n",
    "\n",
    "def info(messgae):\n",
    "    return logger(\"info\", message)\n",
    "\n",
    "debug(\"Error 404\")"
   ]
  },
  {
   "cell_type": "code",
   "execution_count": 13,
   "metadata": {
    "collapsed": false
   },
   "outputs": [
    {
     "name": "stdout",
     "output_type": "stream",
     "text": [
      "debug: Error 404\n"
     ]
    }
   ],
   "source": [
    "from functools import partial\n",
    "\n",
    "debug = partial(logger, \"debug\")\n",
    "info = partial(logger, \"info\")\n",
    "\n",
    "debug(\"Error 404\")"
   ]
  },
  {
   "cell_type": "markdown",
   "metadata": {},
   "source": [
    "# debug(\"Error 404\") = partial(logger, \"debug\")(\"Error 404\")"
   ]
  },
  {
   "cell_type": "code",
   "execution_count": 14,
   "metadata": {
    "collapsed": false
   },
   "outputs": [
    {
     "name": "stdout",
     "output_type": "stream",
     "text": [
      "debug: Error 404\n"
     ]
    }
   ],
   "source": [
    "partial(logger, \"debug\")(\"Error 404\")"
   ]
  },
  {
   "cell_type": "markdown",
   "metadata": {},
   "source": [
    "# Currying"
   ]
  },
  {
   "cell_type": "markdown",
   "metadata": {},
   "source": [
    "# f(a, b, c) => g(a)(b)(c)"
   ]
  },
  {
   "cell_type": "code",
   "execution_count": 15,
   "metadata": {
    "collapsed": true
   },
   "outputs": [],
   "source": [
    "def transform_and_add(func_transform, a, b):\n",
    "    return func_transform(a) + func_transform(b)\n",
    "\n",
    "def curry_transform_and_add(func_transform):\n",
    "    def apply(a, b):\n",
    "        return func_transform(a) + func_transform(b)\n",
    "    \n",
    "    return apply"
   ]
  },
  {
   "cell_type": "code",
   "execution_count": 16,
   "metadata": {
    "collapsed": false
   },
   "outputs": [
    {
     "name": "stdout",
     "output_type": "stream",
     "text": [
      "True\n"
     ]
    }
   ],
   "source": [
    "print(transform_and_add(cube, 1, 2) == curry_transform_and_add(cube)(1, 2))"
   ]
  },
  {
   "cell_type": "markdown",
   "metadata": {
    "collapsed": true
   },
   "source": [
    "# Currying gets you specialized functions from more general functions"
   ]
  },
  {
   "cell_type": "markdown",
   "metadata": {},
   "source": [
    "# Map, Reduce, Filter "
   ]
  },
  {
   "cell_type": "code",
   "execution_count": 17,
   "metadata": {
    "collapsed": false
   },
   "outputs": [
    {
     "name": "stdout",
     "output_type": "stream",
     "text": [
      "<class 'map'>\n",
      "1\n",
      "4\n"
     ]
    }
   ],
   "source": [
    "input_list = [1, 2, 3, 4]\n",
    "squared_list = map(lambda x: x**2, input_list)\n",
    "print(type(squared_list))\n",
    "print(next(squared_list))\n",
    "print(next(squared_list))"
   ]
  },
  {
   "cell_type": "code",
   "execution_count": 18,
   "metadata": {
    "collapsed": false
   },
   "outputs": [
    {
     "name": "stdout",
     "output_type": "stream",
     "text": [
      "10\n"
     ]
    }
   ],
   "source": [
    "from functools import reduce\n",
    "sum_list = reduce(operator.add, input_list)\n",
    "print(sum_list)"
   ]
  },
  {
   "cell_type": "code",
   "execution_count": 19,
   "metadata": {
    "collapsed": false
   },
   "outputs": [
    {
     "name": "stdout",
     "output_type": "stream",
     "text": [
      "30\n"
     ]
    }
   ],
   "source": [
    "sum_squared_list = reduce(operator.add, \n",
    "                          map(lambda x: x**2, input_list))\n",
    "print(sum_squared_list)"
   ]
  },
  {
   "cell_type": "code",
   "execution_count": 20,
   "metadata": {
    "collapsed": false
   },
   "outputs": [
    {
     "name": "stdout",
     "output_type": "stream",
     "text": [
      "6\n"
     ]
    }
   ],
   "source": [
    "even_list = list(\n",
    "                filter(lambda x: x%2==0, input_list))\n",
    "sum_even_list = reduce(operator.add, even_list)\n",
    "print(sum_even_list)"
   ]
  },
  {
   "cell_type": "code",
   "execution_count": 21,
   "metadata": {
    "collapsed": false
   },
   "outputs": [
    {
     "name": "stdout",
     "output_type": "stream",
     "text": [
      "20\n"
     ]
    }
   ],
   "source": [
    "print(reduce(operator.add,\n",
    "            (map(lambda x: x**2, \n",
    "                filter(lambda x: x%2==0, input_list)))))"
   ]
  },
  {
   "cell_type": "markdown",
   "metadata": {},
   "source": [
    "# itertools — Functions creating iterators for efficient looping"
   ]
  },
  {
   "cell_type": "code",
   "execution_count": 28,
   "metadata": {
    "collapsed": false
   },
   "outputs": [
    {
     "name": "stdout",
     "output_type": "stream",
     "text": [
      "[1, 2, 3, 4]\n",
      "<class 'itertools.accumulate'>\n",
      "1\n",
      "3\n",
      "6\n"
     ]
    }
   ],
   "source": [
    "from itertools import accumulate\n",
    "acc = accumulate(input_list, operator.add)\n",
    "print(input_list)\n",
    "print(type(acc))\n",
    "print(next(acc))\n",
    "print(next(acc))\n",
    "print(next(acc))"
   ]
  },
  {
   "cell_type": "markdown",
   "metadata": {},
   "source": [
    "# Recursion"
   ]
  },
  {
   "cell_type": "code",
   "execution_count": 29,
   "metadata": {
    "collapsed": true
   },
   "outputs": [],
   "source": [
    "def factorial(n):\n",
    "    if n == 0:\n",
    "        return 1\n",
    "    else:\n",
    "        return n * factorial(n - 1)"
   ]
  },
  {
   "cell_type": "markdown",
   "metadata": {},
   "source": [
    "# Sadly, no tail recursion"
   ]
  },
  {
   "cell_type": "markdown",
   "metadata": {},
   "source": [
    "# Comprehension"
   ]
  },
  {
   "cell_type": "code",
   "execution_count": 34,
   "metadata": {
    "collapsed": false
   },
   "outputs": [
    {
     "name": "stdout",
     "output_type": "stream",
     "text": [
      "[1, 2, 3, 4]\n",
      "[2, 2, 6, 4]\n"
     ]
    }
   ],
   "source": [
    "print(input_list)\n",
    "collection = list()\n",
    "is_even = lambda x: x%2==0\n",
    "for data in input_list:\n",
    "    if(is_even(data)):\n",
    "        collection.append(data)\n",
    "    else:\n",
    "        collection.append(data*2)\n",
    "print(collection)"
   ]
  },
  {
   "cell_type": "code",
   "execution_count": 36,
   "metadata": {
    "collapsed": false
   },
   "outputs": [
    {
     "name": "stdout",
     "output_type": "stream",
     "text": [
      "[2, 2, 6, 4]\n"
     ]
    }
   ],
   "source": [
    "collection = [data if is_even(data) else data*2 \n",
    "              for data in input_list]\n",
    "print(collection)"
   ]
  },
  {
   "cell_type": "markdown",
   "metadata": {},
   "source": [
    "# Generators"
   ]
  },
  {
   "cell_type": "code",
   "execution_count": 37,
   "metadata": {
    "collapsed": false
   },
   "outputs": [
    {
     "name": "stdout",
     "output_type": "stream",
     "text": [
      "<generator object <genexpr> at 0x7ff7d02a5f78>\n"
     ]
    }
   ],
   "source": [
    "collection = (data if is_even(data) else data*2 \n",
    "              for data in input_list)\n",
    "print(collection)"
   ]
  }
 ],
 "metadata": {
  "kernelspec": {
   "display_name": "Python 3",
   "language": "python",
   "name": "python3"
  },
  "language_info": {
   "codemirror_mode": {
    "name": "ipython",
    "version": 3
   },
   "file_extension": ".py",
   "mimetype": "text/x-python",
   "name": "python",
   "nbconvert_exporter": "python",
   "pygments_lexer": "ipython3",
   "version": "3.4.3"
  }
 },
 "nbformat": 4,
 "nbformat_minor": 1
}
